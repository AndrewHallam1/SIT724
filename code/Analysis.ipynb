{
 "cells": [
  {
   "cell_type": "markdown",
   "id": "abce0427-a24a-4670-bd1a-371c8b1fda04",
   "metadata": {},
   "source": [
    "## Deep Learning Approach"
   ]
  },
  {
   "cell_type": "code",
   "execution_count": 185,
   "id": "b5802bed-aef8-440a-98cf-ec4a64b23b9f",
   "metadata": {
    "tags": []
   },
   "outputs": [],
   "source": [
    "#import appropriate packages\n",
    "\n",
    "import os\n",
    "import pandas as pd\n",
    "import numpy as np\n",
    "import warnings\n",
    "warnings.filterwarnings(\"ignore\")\n",
    "from sklearn.model_selection import train_test_split\n",
    "from sklearn.ensemble import RandomForestClassifier\n",
    "from sklearn.neighbors import KNeighborsRegressor\n",
    "from sklearn.inspection import permutation_importance\n",
    "import numpy\n",
    "from sklearn.datasets import make_regression\n",
    "from sklearn.linear_model import LinearRegression\n",
    "from matplotlib import pyplot\n",
    "from sklearn.model_selection import GridSearchCV\n",
    "import matplotlib.pyplot as plt\n",
    "from sklearn.svm import SVC\n",
    "from sklearn.metrics import classification_report, confusion_matrix, accuracy_score, ConfusionMatrixDisplay\n",
    "from sklearn.preprocessing import MinMaxScaler\n",
    "from sklearn.tree import DecisionTreeClassifier\n",
    "from sklearn.naive_bayes import GaussianNB\n",
    "from sklearn.model_selection import RepeatedStratifiedKFold\n",
    "from sklearn.preprocessing import PowerTransformer\n",
    "from sklearn.ensemble import StackingClassifier\n",
    "from sklearn.model_selection import cross_val_score as cvs\n",
    "from sklearn.model_selection import StratifiedShuffleSplit\n",
    "import dask.dataframe as dd\n",
    "from scipy.stats import skew\n",
    "from sklearn import preprocessing\n",
    "import lightgbm as lgb\n",
    "\n",
    "from tab2img.converter import Tab2Img\n",
    "\n",
    "#deep learning\n",
    "from tensorflow.keras import layers\n",
    "from tensorflow.keras import models\n",
    "from keras.callbacks import EarlyStopping\n",
    "import torch\n",
    "from torch import nn\n",
    "from pytorch_tabnet.tab_model import TabNetClassifier\n",
    "from sklearn.impute import SimpleImputer"
   ]
  },
  {
   "cell_type": "markdown",
   "id": "3916617a-7cdb-4295-a22c-c0b853a37042",
   "metadata": {},
   "source": [
    "## Data Load"
   ]
  },
  {
   "cell_type": "code",
   "execution_count": 186,
   "id": "3e61ac94-62e1-47da-a72a-556a692626c8",
   "metadata": {
    "tags": []
   },
   "outputs": [],
   "source": [
    "#colet_deep_data = pd.DataFrame()\n",
    "#temp = pd.read_csv(r'E:\\Deakin\\SIT724\\Data Set\\Data\\COLET\\To upload\\colet_deep_learning_data.csv', iterator = True, chunksize = 1000)\n",
    "#colet_deep_data = pd.concat(temp, ignore_index=True)"
   ]
  },
  {
   "cell_type": "code",
   "execution_count": 187,
   "id": "dafd7849-d8a3-41c5-8ae3-8d6477068c8b",
   "metadata": {
    "tags": []
   },
   "outputs": [],
   "source": [
    "#print(colet_deep_data.shape[0])"
   ]
  },
  {
   "cell_type": "code",
   "execution_count": 188,
   "id": "88a6c278-08ea-497d-aa5c-26c3ed3c5c41",
   "metadata": {
    "tags": []
   },
   "outputs": [],
   "source": [
    "#pd.set_option('display.max_rows', None)\n",
    "#pd.set_option('display.max_columns', None)\n",
    "\n",
    "#colet_deep_data.isnull().sum(axis=0)"
   ]
  },
  {
   "cell_type": "code",
   "execution_count": 189,
   "id": "9d4f7696-7515-402a-a24a-18c989dc0323",
   "metadata": {},
   "outputs": [],
   "source": [
    "# Identify number of entrires for each class/participant\n",
    "\n",
    "#class balancing? "
   ]
  },
  {
   "cell_type": "markdown",
   "id": "c44e4c46-75e1-483f-a3ac-3b68f2082faf",
   "metadata": {},
   "source": [
    "# GAZE"
   ]
  },
  {
   "cell_type": "code",
   "execution_count": 190,
   "id": "0de20fed-56c7-455c-becf-14556eaa3e5d",
   "metadata": {
    "tags": []
   },
   "outputs": [],
   "source": [
    "#check other COLET dataframes\n",
    "colet_gaze = pd.read_csv(r'E:\\Deakin\\SIT724\\Data Set\\Data\\COLET\\To upload\\colet_gaze_concat.csv')\n"
   ]
  },
  {
   "cell_type": "code",
   "execution_count": 191,
   "id": "30b6bba4-136d-4495-b494-41a10be255b4",
   "metadata": {
    "tags": []
   },
   "outputs": [],
   "source": [
    "#remove missing values\n",
    "\n",
    "colet_gaze = colet_gaze.dropna()"
   ]
  },
  {
   "cell_type": "code",
   "execution_count": 192,
   "id": "0d485823-b713-413d-a503-ea8619f89a62",
   "metadata": {},
   "outputs": [],
   "source": [
    "#reset this as we are working with the index \n",
    "\n",
    "colet_gaze = colet_gaze.reset_index()"
   ]
  },
  {
   "cell_type": "code",
   "execution_count": 193,
   "id": "abe52bf9-2b08-4ccc-ba5d-d059ce83a855",
   "metadata": {},
   "outputs": [],
   "source": [
    "## Testing below"
   ]
  },
  {
   "cell_type": "markdown",
   "id": "fc18a1b1-b58e-4180-a5ef-42dbab47c40c",
   "metadata": {},
   "source": [
    "Test the below: \n",
    "\n",
    "- get the rolling feature value for the window, and then this becomes its own feature \n",
    "\n",
    "- apply the rolling using the windows created \n",
    "\n",
    "- class imbalance "
   ]
  },
  {
   "cell_type": "code",
   "execution_count": 194,
   "id": "502e48a9-4151-4530-848b-dc56b2e12402",
   "metadata": {
    "tags": []
   },
   "outputs": [],
   "source": [
    "#calculate the difference between the earliest and latest timestamp by participant and task\n",
    "\n",
    "#colet_gaze['index_diff']= colet_gaze.reset_index().groupby(['file', 'task'])['index'].transform(lambda x: x.max() - x.min())"
   ]
  },
  {
   "cell_type": "code",
   "execution_count": 195,
   "id": "5060f45c-b85a-489d-b811-a7f14372f105",
   "metadata": {
    "tags": []
   },
   "outputs": [],
   "source": [
    "#colet_gaze['window_size'] = round(colet_gaze['index_diff']/6)"
   ]
  },
  {
   "cell_type": "code",
   "execution_count": 196,
   "id": "6fc47624-59ae-4485-bdf2-1b7b11ae78f3",
   "metadata": {},
   "outputs": [],
   "source": [
    "#if between min and min + window_size then 1"
   ]
  },
  {
   "cell_type": "code",
   "execution_count": 197,
   "id": "9235fd21-a85e-41d5-9389-1b3989b88e9d",
   "metadata": {
    "tags": []
   },
   "outputs": [],
   "source": [
    "# Create a new field 'window' with overlapping windows\n",
    "#colet_gaze['window'] = colet_gaze.groupby(['file', 'task'])['index'].transform(lambda x: pd.Series(range(1, len(x) - 1)).rolling(window=int(colet_gaze['window_size'].iloc[0]), min_periods=1).apply(lambda y: y.iloc[-1] if not y.empty else None))"
   ]
  },
  {
   "cell_type": "code",
   "execution_count": 198,
   "id": "cfda8d54-8799-4eec-925d-04a0e8eb68c7",
   "metadata": {
    "tags": []
   },
   "outputs": [],
   "source": [
    "# Define the window size\n",
    "#window_size = 5\n",
    "\n",
    "# Group by 'file' and 'task', and calculate the window based on the index\n",
    "#colet_gaze['window'] = colet_gaze.groupby(['file', 'task']).apply(lambda x: pd.RangeIndex(start=1, stop=len(x)+1) + window_size).values\n"
   ]
  },
  {
   "cell_type": "code",
   "execution_count": 199,
   "id": "6e908e07-45ac-4ad6-9b12-2f740c74620c",
   "metadata": {
    "tags": []
   },
   "outputs": [],
   "source": [
    "#colet_gaze[colet_gaze['file'] == 'Task1_Subject_9.xlsx']"
   ]
  },
  {
   "cell_type": "markdown",
   "id": "3f24202d-aea1-462e-bf56-cb515b4a04df",
   "metadata": {
    "tags": []
   },
   "source": [
    "import pandas as pd\n",
    "\n",
    "# Assuming your DataFrame is named colet_gaze and contains 'index', 'file', and 'task' columns\n",
    "\n",
    "# Define the window function\n",
    "def get_window_number(index):\n",
    "    group_size = 3\n",
    "    window_size = 5\n",
    "\n",
    "    if index % window_size == 0:\n",
    "        return 1\n",
    "    else:\n",
    "        group_index = (index // window_size) * group_size\n",
    "        if index >= group_index and index < group_index + window_size:\n",
    "            return (index - group_index) // group_size + 1\n",
    "        else:\n",
    "            return None\n",
    "\n",
    "# Group by 'file' and 'task' and create window columns\n",
    "grouped = colet_gaze.groupby(['file', 'task'])\n",
    "\n",
    "for group_name, group_data in grouped:\n",
    "    for i in range(1, 6):  # Assuming 5 windows\n",
    "        window_col = f'window_{i}_{group_name[0]}_{group_name[1]}'\n",
    "        colet_gaze.loc[group_data.index, window_col] = group_data['index'].apply(lambda x: 1 if get_window_number(x) == i else 0)\n",
    "\n",
    "colet_gaze"
   ]
  },
  {
   "cell_type": "code",
   "execution_count": 200,
   "id": "01356e64-62a6-4870-a4a0-bffbe8413184",
   "metadata": {},
   "outputs": [],
   "source": [
    "## Testing above "
   ]
  },
  {
   "cell_type": "code",
   "execution_count": 201,
   "id": "866b1760-f7b2-49eb-9ab0-03841cc237d8",
   "metadata": {
    "tags": []
   },
   "outputs": [],
   "source": [
    "#calculate the difference between the earliest and latest timestamp by participant and task\n",
    "\n",
    "colet_gaze['timestamp_diff']= (colet_gaze.groupby(['file', 'task'])['gaze_timestamp'].transform('max')-\n",
    "             colet_gaze.groupby(['file', 'task'])['gaze_timestamp'].transform('min'))"
   ]
  },
  {
   "cell_type": "code",
   "execution_count": 202,
   "id": "98e86b63-4e19-4f77-8e95-0c049310a118",
   "metadata": {
    "tags": []
   },
   "outputs": [],
   "source": [
    "#create an even number of window sizes\n",
    "\n",
    "colet_gaze['window_size'] = 100\n",
    "#colet_gaze['window_size'] = round(colet_gaze['timestamp_diff']/16)"
   ]
  },
  {
   "cell_type": "code",
   "execution_count": 203,
   "id": "d2a2d747-5e4f-4700-80d1-062abca4e54f",
   "metadata": {},
   "outputs": [],
   "source": [
    "# create a fixed window size\n",
    "\n",
    "#\n",
    "#max_category_n = 16\n",
    "max_category_n = round(colet_gaze['timestamp_diff']/colet_gaze['window_size'] ).astype(int).max()"
   ]
  },
  {
   "cell_type": "code",
   "execution_count": 204,
   "id": "88b19f1a-0aec-41c9-8fbe-ba170540aa19",
   "metadata": {
    "tags": []
   },
   "outputs": [],
   "source": [
    "#include a 'min timestamp' for calculations below\n",
    "\n",
    "colet_gaze['min_gaze_timestamp'] = colet_gaze.groupby(['file', 'task'])['gaze_timestamp'].transform('min')"
   ]
  },
  {
   "cell_type": "code",
   "execution_count": null,
   "id": "926acca0-52f7-4f34-8921-fe9e92f8211c",
   "metadata": {
    "tags": []
   },
   "outputs": [],
   "source": [
    "# Define a function to apply the logic and assign categories\n",
    "def assign_category(row):\n",
    "    max_category = max_category_n\n",
    "    for i in range(1, max_category + 1):\n",
    "        lower_bound = row['min_gaze_timestamp'] + (row['window_size'] * (i - 1))\n",
    "        upper_bound = row['min_gaze_timestamp'] + (row['window_size'] * i)\n",
    "        if row['gaze_timestamp'] >= lower_bound and row['gaze_timestamp'] <= upper_bound:\n",
    "            return i\n",
    "    return None\n",
    "\n",
    "# Apply the function to create the 'category' column\n",
    "colet_gaze['category'] = colet_gaze.apply(assign_category, axis=1)\n",
    "\n",
    "#print(colet_gaze)"
   ]
  },
  {
   "cell_type": "code",
   "execution_count": null,
   "id": "41e7919c-40b2-4f83-8672-a86f9346f858",
   "metadata": {
    "tags": []
   },
   "outputs": [],
   "source": [
    "colet_gaze"
   ]
  },
  {
   "cell_type": "code",
   "execution_count": null,
   "id": "25f22250-e024-4373-b608-45e5d0f10e9c",
   "metadata": {
    "tags": []
   },
   "outputs": [],
   "source": [
    "#check if it's applyign correctly\n",
    "\n",
    "print(colet_gaze[colet_gaze['file'] == 'Task1_Subject_1.xlsx']['category'].unique())"
   ]
  },
  {
   "cell_type": "markdown",
   "id": "47b9ed83-afaa-4b85-91e7-02a6a73eb6e2",
   "metadata": {},
   "source": [
    "# PUPIL"
   ]
  },
  {
   "cell_type": "code",
   "execution_count": null,
   "id": "38ea5c17-cb7c-4d7b-a999-601de98d84af",
   "metadata": {
    "tags": []
   },
   "outputs": [],
   "source": [
    "colet_pupil = pd.read_csv(r'E:\\Deakin\\SIT724\\Data Set\\Data\\COLET\\To upload\\colet_pupil_concat.csv')\n",
    "colet_pupil.isnull().sum(axis=0)"
   ]
  },
  {
   "cell_type": "code",
   "execution_count": null,
   "id": "4da388a5-70c1-412f-9c5c-7d9de69ec2f0",
   "metadata": {
    "tags": []
   },
   "outputs": [],
   "source": [
    "#drop missing values\n",
    "colet_pupil = colet_pupil.dropna()"
   ]
  },
  {
   "cell_type": "code",
   "execution_count": null,
   "id": "29d339b8-ff63-4b6c-96da-9fceb6b53084",
   "metadata": {
    "tags": []
   },
   "outputs": [],
   "source": [
    "#calculate the difference between the earliest and latest timestamp by participant and task\n",
    "\n",
    "colet_pupil['timestamp_diff']= (colet_pupil.groupby(['file', 'task'])['pupil_timestamp'].transform('max')-\n",
    "             colet_pupil.groupby(['file', 'task'])['pupil_timestamp'].transform('min'))"
   ]
  },
  {
   "cell_type": "code",
   "execution_count": null,
   "id": "84b52953-010a-4fee-8f20-2e9365ce5739",
   "metadata": {
    "tags": []
   },
   "outputs": [],
   "source": [
    "#create an even number of window sizes\n",
    "colet_pupil['window_size'] = 100\n",
    "\n",
    "#colet_pupil['window_size'] = round(colet_pupil['timestamp_diff']/16)"
   ]
  },
  {
   "cell_type": "code",
   "execution_count": null,
   "id": "2eaecd7c-f880-4c61-ad0e-5fc16f275801",
   "metadata": {},
   "outputs": [],
   "source": [
    "# create a fixed window size\n",
    "\n",
    "\n",
    "#max_category_n = 16\n",
    "\n",
    "max_category_n = round(colet_pupil['timestamp_diff']/colet_pupil['window_size']).astype(int).max()"
   ]
  },
  {
   "cell_type": "code",
   "execution_count": null,
   "id": "3d987cc3-f673-4438-969a-d95480a2de6e",
   "metadata": {
    "tags": []
   },
   "outputs": [],
   "source": [
    "#include a 'min timestamp' for calculations below\n",
    "\n",
    "colet_pupil['min_pupil_timestamp'] = colet_pupil.groupby(['file', 'task'])['pupil_timestamp'].transform('min')"
   ]
  },
  {
   "cell_type": "code",
   "execution_count": null,
   "id": "d8f6d8f8-b65b-42e1-ad5f-9a6bdae8f769",
   "metadata": {
    "tags": []
   },
   "outputs": [],
   "source": [
    "# Define a function to apply the logic and assign categories\n",
    "def assign_category(row):\n",
    "    max_category = max_category_n\n",
    "    for i in range(1, max_category + 1):\n",
    "        lower_bound = row['min_pupil_timestamp'] + (row['window_size'] * (i - 1))\n",
    "        upper_bound = row['min_pupil_timestamp'] + (row['window_size'] * i)\n",
    "        if row['pupil_timestamp'] >= lower_bound and row['pupil_timestamp'] <= upper_bound:\n",
    "            return i\n",
    "    return None\n",
    "\n",
    "# Apply the function to create the 'category' column\n",
    "colet_pupil['category'] = colet_pupil.apply(assign_category, axis=1)\n",
    "\n"
   ]
  },
  {
   "cell_type": "code",
   "execution_count": null,
   "id": "f82faddf-e86e-4106-9c9f-eb42a8386650",
   "metadata": {},
   "outputs": [],
   "source": [
    "#check if it's applyign correctly\n",
    "\n",
    "print(colet_pupil[colet_pupil['file'] == 'Task1_Subject_1.xlsx']['category'].unique())"
   ]
  },
  {
   "cell_type": "markdown",
   "id": "f44b90de-6d79-480b-9051-f64c119c6c00",
   "metadata": {},
   "source": [
    "# BLINK"
   ]
  },
  {
   "cell_type": "code",
   "execution_count": null,
   "id": "a8156db4-a9b5-4acb-b4d3-60fff6283689",
   "metadata": {
    "tags": []
   },
   "outputs": [],
   "source": [
    "colet_blink = pd.read_csv(r'E:\\Deakin\\SIT724\\Data Set\\Data\\COLET\\To upload\\colet_blink_concat.csv')\n",
    "colet_blink.isnull().sum(axis=0)"
   ]
  },
  {
   "cell_type": "code",
   "execution_count": null,
   "id": "10de0b1e-71ed-4da0-8e6c-db25d5381498",
   "metadata": {
    "tags": []
   },
   "outputs": [],
   "source": [
    "#calculate the difference between the earliest and latest timestamp by participant and task\n",
    "\n",
    "colet_blink['timestamp_diff']= (colet_blink.groupby(['file', 'task'])['start_timestamp'].transform('max')-\n",
    "             colet_blink.groupby(['file', 'task'])['start_timestamp'].transform('min'))"
   ]
  },
  {
   "cell_type": "code",
   "execution_count": null,
   "id": "d553070f-b60f-437e-8f99-4e6b2ffcc950",
   "metadata": {
    "tags": []
   },
   "outputs": [],
   "source": [
    "#create an even number of window sizes\n",
    "\n",
    "colet_blink['window_size'] = 100\n",
    "#colet_blink['window_size'] = round(colet_blink['timestamp_diff']/16)"
   ]
  },
  {
   "cell_type": "code",
   "execution_count": null,
   "id": "0d51e9bf-7bcd-48aa-b6da-5c0bf2cd1529",
   "metadata": {},
   "outputs": [],
   "source": [
    "#create a fixed window size\n",
    "\n",
    "max_category_n = round(colet_blink['timestamp_diff']/colet_blink['window_size']).astype(int).max()\n",
    "#max_category_n = 16"
   ]
  },
  {
   "cell_type": "code",
   "execution_count": null,
   "id": "9611b804-33e7-458b-9738-d5d71a357b4e",
   "metadata": {
    "tags": []
   },
   "outputs": [],
   "source": [
    "#include a 'min timestamp' for calculations below\n",
    "\n",
    "colet_blink['min_blink_timestamp'] = colet_blink.groupby(['file', 'task'])['start_timestamp'].transform('min')"
   ]
  },
  {
   "cell_type": "code",
   "execution_count": null,
   "id": "95a45725-c03c-42cc-a182-114861edc430",
   "metadata": {
    "tags": []
   },
   "outputs": [],
   "source": [
    "# Define a function to apply the logic and assign categories\n",
    "def assign_category(row):\n",
    "    max_category = max_category_n\n",
    "    for i in range(1, max_category + 1):\n",
    "        lower_bound = row['min_blink_timestamp'] + (row['window_size'] * (i - 1))\n",
    "        upper_bound = row['min_blink_timestamp'] + (row['window_size'] * i)\n",
    "        if row['start_timestamp'] >= lower_bound and row['start_timestamp'] <= upper_bound:\n",
    "            return i\n",
    "    return None\n",
    "\n",
    "# Apply the function to create the 'category' column\n",
    "colet_blink['category'] = colet_blink.apply(assign_category, axis=1)\n",
    "\n"
   ]
  },
  {
   "cell_type": "code",
   "execution_count": null,
   "id": "4d20c724-d6cb-4fab-8a60-4a825d80c422",
   "metadata": {
    "tags": []
   },
   "outputs": [],
   "source": [
    "colet_blink"
   ]
  },
  {
   "cell_type": "markdown",
   "id": "1e1d03e1-fc17-41a7-a951-d1b9b21c432b",
   "metadata": {},
   "source": [
    "# ANNOTATION"
   ]
  },
  {
   "cell_type": "code",
   "execution_count": null,
   "id": "3d63ef2e-c3ef-41fe-833d-88179ddbe4b1",
   "metadata": {
    "tags": []
   },
   "outputs": [],
   "source": [
    "colet_annot = pd.read_csv(r'E:\\Deakin\\SIT724\\Data Set\\Data\\COLET\\To upload\\colet_annot_concat.csv')\n",
    "colet_annot.isnull().sum(axis=0)"
   ]
  },
  {
   "cell_type": "code",
   "execution_count": null,
   "id": "455ceb51-421b-4ddb-a627-0a5742c2630c",
   "metadata": {
    "tags": []
   },
   "outputs": [],
   "source": [
    "#only really need mean_1 for the DV\n",
    "colet_annot = colet_annot[['file', 'task', 'mean_1']]"
   ]
  },
  {
   "cell_type": "markdown",
   "id": "ad0a03d7-5a0e-4c07-9c40-52d54b860860",
   "metadata": {},
   "source": [
    "### no need to do any additional work on annotation, but do need to merge it to the dataframes at the end"
   ]
  },
  {
   "cell_type": "markdown",
   "id": "28534cc1-8196-47bb-b638-12dd2b0ed5be",
   "metadata": {},
   "source": [
    "# Additional features to allow for aggregation by windows"
   ]
  },
  {
   "cell_type": "markdown",
   "id": "1397b63d-5007-424a-ac6d-a1d8bd4f4504",
   "metadata": {},
   "source": [
    "# Gaze features"
   ]
  },
  {
   "cell_type": "markdown",
   "id": "b2f48b58-aa8f-41a2-afbc-1a7394eab824",
   "metadata": {},
   "source": [
    "## Fixations and Saccades"
   ]
  },
  {
   "cell_type": "code",
   "execution_count": null,
   "id": "ee8fdd7d-7726-40c9-9d5d-4919f1d21226",
   "metadata": {
    "tags": []
   },
   "outputs": [],
   "source": [
    "colet_gaze"
   ]
  },
  {
   "cell_type": "code",
   "execution_count": null,
   "id": "b547b264-cfd2-461f-ad94-aecb3201b492",
   "metadata": {},
   "outputs": [],
   "source": [
    "#get the difference between the previous value for each row\n",
    "\n",
    "colet_gaze.sort_values(['file', 'gaze_timestamp', 'task', 'category'], inplace=True)\n",
    "colet_gaze['gaze_diff'] = colet_gaze.groupby(['file', 'task', 'category'])['gaze_timestamp'].diff()\n",
    "colet_gaze['x_diff'] = colet_gaze.groupby(['file', 'task', 'category'])['gaze_point_3d_x'].diff()\n",
    "colet_gaze['y_diff'] = colet_gaze.groupby(['file', 'task', 'category'])['gaze_point_3d_y'].diff()\n",
    "colet_gaze['z_diff'] = colet_gaze.groupby(['file', 'task', 'category'])['gaze_point_3d_z'].diff()"
   ]
  },
  {
   "cell_type": "code",
   "execution_count": null,
   "id": "34839cb3-5352-4a01-b3f4-de17acd18ac8",
   "metadata": {},
   "outputs": [],
   "source": [
    "#square x, y and z\n",
    "\n",
    "colet_gaze['x_diff^2'] = colet_gaze['x_diff']**2\n",
    "colet_gaze['y_diff^2'] = colet_gaze['y_diff']**2\n",
    "colet_gaze['z_diff^2'] = colet_gaze['z_diff']**2"
   ]
  },
  {
   "cell_type": "code",
   "execution_count": null,
   "id": "acce8ebd-28a5-4d99-ac78-e2e34bd41e82",
   "metadata": {},
   "outputs": [],
   "source": [
    "#sum x y and z\n",
    "column_names = ['x_diff^2','y_diff^2','z_diff^2']\n",
    "\n",
    "colet_gaze['sum']= colet_gaze[column_names].sum(axis=1)"
   ]
  },
  {
   "cell_type": "code",
   "execution_count": null,
   "id": "e5b2c282-d899-40c2-9d1b-3e3d3495bea6",
   "metadata": {},
   "outputs": [],
   "source": [
    "#take sqrt of this value\n",
    "\n",
    "colet_gaze['sqrt']= np.sqrt(colet_gaze['sum'])"
   ]
  },
  {
   "cell_type": "code",
   "execution_count": null,
   "id": "5773b2ec-5681-4a37-a28d-2c6675bc1b01",
   "metadata": {},
   "outputs": [],
   "source": [
    "#divide by displacement to obtain velocity\n",
    "\n",
    "colet_gaze['velocity'] = colet_gaze['gaze_diff'] / colet_gaze['sqrt']"
   ]
  },
  {
   "cell_type": "code",
   "execution_count": null,
   "id": "bb090e81-88b5-4416-b080-032f8d2ba7f0",
   "metadata": {
    "tags": []
   },
   "outputs": [],
   "source": [
    "# skewness of velocity\n",
    "\n",
    "colet_gaze['skew_velocity'] = colet_gaze.groupby(['file', 'task', 'category'])['velocity'].transform(lambda x: x.skew())\n",
    "\n",
    "# kurtosis of velocity\n",
    "\n",
    "colet_gaze['kurtosis_velocity'] = colet_gaze.groupby(['file', 'task', 'category'])['velocity'].transform(lambda x: x.kurtosis())"
   ]
  },
  {
   "cell_type": "code",
   "execution_count": null,
   "id": "de71f9c2-6142-4424-92c2-9b92abbbf764",
   "metadata": {
    "tags": []
   },
   "outputs": [],
   "source": [
    "# skewness of duration\n",
    "\n",
    "colet_gaze['skew_gaze_duration'] = colet_gaze.groupby(['file', 'task', 'category'])['gaze_diff'].transform(lambda x: x.skew())\n",
    "\n",
    "#kurtosis of duration\n",
    "\n",
    "colet_gaze['kurtosis_gaze_duration'] = colet_gaze.groupby(['file', 'task', 'category'])['gaze_diff'].transform(lambda x: x.kurtosis())"
   ]
  },
  {
   "cell_type": "code",
   "execution_count": null,
   "id": "bd86c466-affb-437e-a14f-610a68295d97",
   "metadata": {
    "tags": []
   },
   "outputs": [],
   "source": [
    "#fixation flag\n",
    "\n",
    "colet_gaze['fixation_flag'] = np.where((colet_gaze['velocity'] < 0.45) & (colet_gaze['gaze_diff']) > 0.55, 1, 0)"
   ]
  },
  {
   "cell_type": "code",
   "execution_count": null,
   "id": "b76bcffb-03fe-427a-9d3b-3f93dc101f05",
   "metadata": {
    "tags": []
   },
   "outputs": [],
   "source": [
    "#grouping fixations (as the authors did the same thing)\n",
    "\n",
    "colet_gaze['fix_group'] = colet_gaze.groupby(['file', 'task', 'category'])['fixation_flag'].diff().abs().cumsum().fillna(0).astype(int) + 1"
   ]
  },
  {
   "cell_type": "code",
   "execution_count": null,
   "id": "e0d88798-88e6-4bfb-90ef-1dc76f3073eb",
   "metadata": {
    "tags": []
   },
   "outputs": [],
   "source": [
    "#counting fixations 1 time! \n",
    "\n",
    "colet_gaze['fixations_count'] = colet_gaze.groupby(['file', 'task', 'category'])['fix_group'].transform('nunique')"
   ]
  },
  {
   "cell_type": "code",
   "execution_count": null,
   "id": "8c93409c-3722-4761-be1f-c2405163e61e",
   "metadata": {
    "tags": []
   },
   "outputs": [],
   "source": [
    "#fixations per second\n",
    "\n",
    "colet_gaze['fix_per_sec'] = colet_gaze['fixations_count'] / colet_gaze['timestamp_diff']"
   ]
  },
  {
   "cell_type": "code",
   "execution_count": null,
   "id": "cb6f96ef-9529-47fb-b7bf-077904759df7",
   "metadata": {
    "tags": []
   },
   "outputs": [],
   "source": [
    "#saccade flag\n",
    "colet_gaze['saccade_flag'] = np.where((colet_gaze['velocity'] > 0.45) & (colet_gaze['gaze_diff']) < 0.55, 1, 0)"
   ]
  },
  {
   "cell_type": "code",
   "execution_count": null,
   "id": "5fc72489-bdc5-4e66-acac-942a23e36a89",
   "metadata": {
    "tags": []
   },
   "outputs": [],
   "source": [
    "#saccades per second\n",
    "colet_gaze['saccade_sum'] = colet_gaze.groupby(['file', 'task', 'category'])['saccade_flag'].transform('sum')\n",
    "\n",
    "colet_gaze['sac_per_sec'] = colet_gaze['saccade_sum'] / colet_gaze['timestamp_diff']"
   ]
  },
  {
   "cell_type": "code",
   "execution_count": null,
   "id": "95934123-65a8-441f-b7e0-f3892c196dad",
   "metadata": {
    "tags": []
   },
   "outputs": [],
   "source": [
    "#max eye movement velocity\n",
    "colet_gaze['max_movement_velocity'] = colet_gaze.groupby(['file', 'task', 'category'])['velocity'].transform('max')\n",
    "\n",
    "#min eye movement velocity\n",
    "colet_gaze['min_movement_velocity'] = colet_gaze.groupby(['file', 'task', 'category'])['velocity'].transform('min')"
   ]
  },
  {
   "cell_type": "code",
   "execution_count": null,
   "id": "8e6ca0a2-3fba-45dd-a34e-ecf3ca2be7dc",
   "metadata": {},
   "outputs": [],
   "source": [
    "#skewness kurtosis can't work on nulls\n",
    "colet_gaze = colet_gaze.dropna()\n",
    "\n",
    "#skewness max velocity\n",
    "\n",
    "colet_gaze['skew_max_velocity'] = colet_gaze.groupby(['task', 'category'])['max_movement_velocity'].transform(lambda x: x.skew())\n",
    "\n",
    "#skewness max kurtosis\n",
    "\n",
    "colet_gaze['kurtosis_max_velocity'] = colet_gaze.groupby(['task', 'category'])['max_movement_velocity'].transform(lambda x: x.kurtosis())\n",
    "\n",
    "#skewness min velocity\n",
    "\n",
    "colet_gaze['skew_min_velocity'] = colet_gaze.groupby(['task', 'category'])['min_movement_velocity'].transform(lambda x: x.skew())\n",
    "\n",
    "#kurtosis min velocity\n",
    "\n",
    "colet_gaze['kurtosis_min_velocity'] = colet_gaze.groupby(['task', 'category'])['min_movement_velocity'].transform(lambda x: x.kurtosis())"
   ]
  },
  {
   "cell_type": "code",
   "execution_count": null,
   "id": "ef0482ba-cf45-4941-a250-5ec0a64e57b4",
   "metadata": {
    "tags": []
   },
   "outputs": [],
   "source": [
    "colet_gaze"
   ]
  },
  {
   "cell_type": "code",
   "execution_count": null,
   "id": "1848cda6-3f83-4583-9cc8-cf75e8d42ac0",
   "metadata": {
    "tags": []
   },
   "outputs": [],
   "source": [
    "#select columns of interest \n",
    "colet_gaze = colet_gaze[['file', 'task', 'category', 'fixations_count', 'sac_per_sec', 'fix_per_sec', 'max_movement_velocity', 'min_movement_velocity', 'saccade_sum'\n",
    "                         , 'skew_max_velocity', 'kurtosis_max_velocity', 'skew_min_velocity', 'kurtosis_min_velocity'\n",
    "                        ]]"
   ]
  },
  {
   "cell_type": "code",
   "execution_count": null,
   "id": "f4652315-3991-4930-96ae-ec9b7e6e8880",
   "metadata": {
    "tags": []
   },
   "outputs": [],
   "source": [
    "#remove duplicates\n",
    "colet_gaze = colet_gaze.drop_duplicates()"
   ]
  },
  {
   "cell_type": "code",
   "execution_count": null,
   "id": "fe6bea75-472e-4bcc-9f30-71addc892387",
   "metadata": {},
   "outputs": [],
   "source": [
    "#the max values are resulting in infinite values, instead replacing these infinite values with the next highest max value\n",
    "\n",
    "# Replace 'inf' values with the maximum 'max_movement_velocity' grouped by 'file', 'task', and 'category'\n",
    "colet_gaze['max_movement_velocity'] = colet_gaze['max_movement_velocity'].replace([np.inf], np.nan)  # Replace 'inf' with nan temporarily\n",
    "\n",
    "max_values = colet_gaze.groupby(['file', 'task', 'category'])['max_movement_velocity'].transform('max')\n",
    "colet_gaze['max_movement_velocity'] = colet_gaze['max_movement_velocity'].fillna(max_values)  # Fill nan values with group max"
   ]
  },
  {
   "cell_type": "code",
   "execution_count": null,
   "id": "04f1748f-bee2-469d-a0bd-c82f15e8dcd9",
   "metadata": {
    "tags": []
   },
   "outputs": [],
   "source": [
    "colet_gaze.to_csv('colet_gaze_features.csv', index = False)"
   ]
  },
  {
   "cell_type": "code",
   "execution_count": null,
   "id": "70213e46-bd47-4bd1-8c3d-45d3f1e93eb9",
   "metadata": {
    "tags": []
   },
   "outputs": [],
   "source": [
    "colet_gaze"
   ]
  },
  {
   "cell_type": "markdown",
   "id": "b2a8ad55-b6d8-4d2c-bd42-562fbd196050",
   "metadata": {},
   "source": [
    "# Pupil Features"
   ]
  },
  {
   "cell_type": "markdown",
   "id": "2d8877e3-94b7-4dd7-a610-6289056ab37d",
   "metadata": {},
   "source": [
    "## Pupil size"
   ]
  },
  {
   "cell_type": "code",
   "execution_count": null,
   "id": "050604e9-4b79-4c45-a8a4-1a3812263192",
   "metadata": {
    "tags": []
   },
   "outputs": [],
   "source": [
    "#avg diameter, max diameter, min diameter\n",
    "\n",
    "#avg diameter\n",
    "colet_pupil['avg_pupil_diameter'] = colet_pupil.groupby(['file', 'task', 'category'])['diameter'].transform('mean')\n",
    "\n",
    "#max diameter\n",
    "colet_pupil['max_pupil_diameter'] = colet_pupil.groupby(['file', 'task', 'category'])['diameter'].transform('max')\n",
    "\n",
    "#min diameter\n",
    "colet_pupil['min_pupil_diameter'] = colet_pupil.groupby(['file', 'task', 'category'])['diameter'].transform('min')"
   ]
  },
  {
   "cell_type": "code",
   "execution_count": null,
   "id": "12eeb239-1396-468a-b4c4-0418e4e0012f",
   "metadata": {},
   "outputs": [],
   "source": [
    "#skewness kurtosis can't work on nulls\n",
    "colet_pupil = colet_pupil.dropna()\n",
    "\n",
    "#skewness min diameter\n",
    "\n",
    "colet_pupil['skew_min_pupil_diameter'] = colet_pupil.groupby(['task', 'category'])['min_pupil_diameter'].transform(lambda x: x.skew())\n",
    "\n",
    "#kurtosis min diameter\n",
    "\n",
    "colet_pupil['kurtosis_min_pupil_diamaeter'] = colet_pupil.groupby(['task', 'category'])['min_pupil_diameter'].transform(lambda x: x.kurtosis())\n",
    "\n",
    "#skewness max diameter\n",
    "\n",
    "colet_pupil['skew_max_pupil_diameter'] = colet_pupil.groupby([ 'task', 'category'])['max_pupil_diameter'].transform(lambda x: x.skew())\n",
    "\n",
    "#kurtosis max diameter\n",
    "\n",
    "colet_pupil['kurtosis_max_pupil_diamaeter'] = colet_pupil.groupby(['task', 'category'])['max_pupil_diameter'].transform(lambda x: x.kurtosis())\n"
   ]
  },
  {
   "cell_type": "code",
   "execution_count": null,
   "id": "6f054c3c-f08a-466a-aea5-b1e0022697e9",
   "metadata": {},
   "outputs": [],
   "source": [
    "#select appropriate columns\n",
    "\n",
    "colet_pupil = colet_pupil[['file', 'task', 'category', 'avg_pupil_diameter', 'max_pupil_diameter', 'min_pupil_diameter'\n",
    "                           , 'skew_min_pupil_diameter', 'kurtosis_min_pupil_diamaeter', 'skew_max_pupil_diameter', 'kurtosis_max_pupil_diamaeter' \n",
    "                          ]]"
   ]
  },
  {
   "cell_type": "code",
   "execution_count": null,
   "id": "4d7f31bc-3232-45e5-89fc-b4f705d7e93d",
   "metadata": {
    "tags": []
   },
   "outputs": [],
   "source": [
    "#remove duplicate rows as we have aggreated these already\n",
    "\n",
    "colet_pupil = colet_pupil.drop_duplicates()"
   ]
  },
  {
   "cell_type": "code",
   "execution_count": null,
   "id": "9b38d113-010a-4db5-9346-8f761c9cbb78",
   "metadata": {
    "tags": []
   },
   "outputs": [],
   "source": [
    "colet_pupil.to_csv('colet_pupil_features.csv', index = False)"
   ]
  },
  {
   "cell_type": "markdown",
   "id": "2e116dde-0e7e-4836-8d80-2062dc86f8c4",
   "metadata": {},
   "source": [
    "# Blink Features"
   ]
  },
  {
   "cell_type": "code",
   "execution_count": null,
   "id": "b1effe6e-248f-45b5-b814-0c88d895e909",
   "metadata": {
    "tags": []
   },
   "outputs": [],
   "source": [
    "#identify length of blink by using the timestamps\n",
    "colet_blink['blink_duration'] = colet_blink['end_timestamp'] - colet_blink['start_timestamp']"
   ]
  },
  {
   "cell_type": "code",
   "execution_count": null,
   "id": "fd1fc811-3cb9-458c-bc5c-65d27e5b7353",
   "metadata": {
    "tags": []
   },
   "outputs": [],
   "source": [
    "#avg duration\n",
    "colet_blink['avg_blink_duration'] = colet_blink.groupby(['file', 'task', 'category'])['blink_duration'].transform('mean')\n",
    "\n",
    "#max duration\n",
    "colet_blink['max_blink_duration'] = colet_blink.groupby(['file', 'task', 'category'])['blink_duration'].transform('max')\n",
    "\n",
    "#min duration\n",
    "colet_blink['min_blink_duration'] = colet_blink.groupby(['file', 'task', 'category'])['blink_duration'].transform('min')"
   ]
  },
  {
   "cell_type": "code",
   "execution_count": null,
   "id": "ff2d11dc-382b-4214-8f95-c752d53f142a",
   "metadata": {},
   "outputs": [],
   "source": [
    "#skewness kurtosis can't work on nulls\n",
    "colet_blink = colet_blink.dropna()\n",
    "\n",
    "\n",
    "#skewness min duration\n",
    "\n",
    "colet_blink['skew_min_blink_duration'] = colet_blink.groupby(['task', 'category'])['min_blink_duration'].transform(lambda x: x.skew())\n",
    "\n",
    "#kurtosis min duration\n",
    "\n",
    "colet_blink['kurtosis_min_blink_duration'] = colet_blink.groupby(['task', 'category'])['min_blink_duration'].transform(lambda x: x.kurtosis())\n",
    "\n",
    "#skewness max duration\n",
    "\n",
    "colet_blink['skew_max_blink_duration'] = colet_blink.groupby(['task', 'category'])['max_blink_duration'].transform(lambda x: x.skew())\n",
    "\n",
    "#kurtosis max duration\n",
    "\n",
    "colet_blink['kurtosis_max_blink_duration'] = colet_blink.groupby(['task', 'category'])['max_blink_duration'].transform(lambda x: x.kurtosis())"
   ]
  },
  {
   "cell_type": "code",
   "execution_count": null,
   "id": "005f88b8-0679-4aee-854a-96f092286389",
   "metadata": {
    "tags": []
   },
   "outputs": [],
   "source": [
    "colet_blink = colet_blink[['file', 'task', 'category', 'avg_blink_duration', 'max_blink_duration', 'min_blink_duration'\n",
    "                           , 'skew_min_blink_duration', 'kurtosis_min_blink_duration', 'skew_max_blink_duration', 'kurtosis_max_blink_duration'\n",
    "                          ]]"
   ]
  },
  {
   "cell_type": "code",
   "execution_count": null,
   "id": "42ea793b-e0be-4c51-93f1-2004a623b84c",
   "metadata": {
    "tags": []
   },
   "outputs": [],
   "source": [
    "colet_blink = colet_blink.drop_duplicates()"
   ]
  },
  {
   "cell_type": "code",
   "execution_count": null,
   "id": "86409b65-d951-45b5-9005-a3d7c543eb65",
   "metadata": {
    "tags": []
   },
   "outputs": [],
   "source": [
    "colet_blink.to_csv('colet_blink_features.csv', index = False)"
   ]
  },
  {
   "cell_type": "markdown",
   "id": "a1ea0635-a3f7-45f9-ad18-d59161094c5f",
   "metadata": {},
   "source": [
    "# Merge dataframes into one"
   ]
  },
  {
   "cell_type": "code",
   "execution_count": null,
   "id": "d2420aea-16d0-4145-a43c-156450dddfc4",
   "metadata": {
    "tags": []
   },
   "outputs": [],
   "source": [
    "#gaze and pupil\n",
    "df1 = pd.merge(colet_gaze, colet_pupil, how='outer', on=['file', 'task', 'category'])\n",
    "\n",
    "#gaze+pupil and blink\n",
    "df2 = pd.merge(df1, colet_blink, how='outer', on=['file', 'task', 'category'])\n",
    "\n",
    "#adding on the annotations\n",
    "colet_final_df = pd.merge(df2, colet_annot, how = 'outer', on = ['file', 'task'])\n",
    "\n",
    "del df2\n",
    "del df1"
   ]
  },
  {
   "cell_type": "code",
   "execution_count": null,
   "id": "5f1f79c1-e6a2-41bc-aa39-e545ab1b3535",
   "metadata": {
    "tags": []
   },
   "outputs": [],
   "source": [
    "colet_final_df.to_csv('colet_final_features.csv', index = False)"
   ]
  },
  {
   "cell_type": "code",
   "execution_count": null,
   "id": "aa14cfa8-7548-4273-9c06-6482661672dc",
   "metadata": {
    "tags": []
   },
   "outputs": [],
   "source": [
    "colet_final_df"
   ]
  },
  {
   "cell_type": "code",
   "execution_count": null,
   "id": "2c5cb6f2-1d2e-4ffb-8022-6266d1055a66",
   "metadata": {},
   "outputs": [],
   "source": [
    "pd.set_option('display.max_columns', None)\n",
    "pd.set_option('display.max_rows', None)\n",
    "\n",
    "print(colet_final_df.columns.tolist())"
   ]
  },
  {
   "cell_type": "code",
   "execution_count": null,
   "id": "5ff3b80b-1fad-4a00-bb02-23b44a4444db",
   "metadata": {
    "tags": []
   },
   "outputs": [],
   "source": [
    "# Reset display options to default\n",
    "pd.reset_option('display.max_rows')\n",
    "pd.reset_option('display.max_columns')"
   ]
  },
  {
   "cell_type": "markdown",
   "id": "36714889-162d-472e-aa5d-e08cf7409639",
   "metadata": {},
   "source": [
    "# Feature Analysis"
   ]
  },
  {
   "cell_type": "markdown",
   "id": "cfb0d833-ba9a-4cad-8445-0c7c36d23ddf",
   "metadata": {},
   "source": [
    "## creating multiclass target variables"
   ]
  },
  {
   "cell_type": "code",
   "execution_count": null,
   "id": "eef413d1-c22a-4098-b199-3279dfcc58e5",
   "metadata": {
    "tags": []
   },
   "outputs": [],
   "source": [
    "#converting the mean_1 feature into a multiclass target variable for analysis\n",
    "\n",
    "bins = [0, 29, 49, 100]\n",
    "labels = ['1', '2', '3']\n",
    "colet_final_df['mean_1'] = pd.cut(colet_final_df['mean_1'], bins, labels=labels)\n",
    "colet_final_df"
   ]
  },
  {
   "cell_type": "code",
   "execution_count": null,
   "id": "b21015f9-542e-42f9-9621-8c3c2ebddb56",
   "metadata": {
    "tags": []
   },
   "outputs": [],
   "source": [
    "# List of columns to exclude from filling missing values with mean\n",
    "exclude_cols = ['file', 'task', 'category']  # Add the columns you want to exclude from filling NaN values\n",
    "\n",
    "# Identify numeric columns to fill missing values with mean\n",
    "numeric_cols = colet_final_df.select_dtypes(include=['number']).columns\n",
    "\n",
    "# Iterate through each numeric column except the excluded columns\n",
    "for col in numeric_cols:\n",
    "    if col not in exclude_cols:\n",
    "        colet_final_df[col] = colet_final_df[col].fillna(colet_final_df.groupby('file')[col].transform('mean'))"
   ]
  },
  {
   "cell_type": "markdown",
   "id": "2ee9f3ae-c24a-477e-b6be-950a01aebd95",
   "metadata": {
    "tags": []
   },
   "source": [
    "#filling missing values - can't do it over the whole dataframe as it tries to fill other fields! Only grouping by task, as we have already aggregated\n",
    "\n",
    "colet_final_df['avg_blink_duration'] = colet_final_df['avg_blink_duration'].fillna(colet_final_df.groupby('file')['avg_blink_duration'].transform('mean'))\n",
    "colet_final_df['sac_per_sec'] = colet_final_df['sac_per_sec'].fillna(colet_final_df.groupby('file')['sac_per_sec'].transform('mean'))\n",
    "colet_final_df['fix_per_sec'] = colet_final_df['fix_per_sec'].fillna(colet_final_df.groupby('file')['fix_per_sec'].transform('mean'))\n",
    "colet_final_df['max_movement_velocity'] = colet_final_df['max_movement_velocity'].fillna(colet_final_df.groupby('file')['max_movement_velocity'].transform('mean'))\n",
    "colet_final_df['min_movement_velocity'] = colet_final_df['min_movement_velocity'].fillna(colet_final_df.groupby('file')['min_movement_velocity'].transform('mean'))\n",
    "colet_final_df['avg_blink_duration'] = colet_final_df['avg_blink_duration'].fillna(colet_final_df.groupby('file')['avg_blink_duration'].transform('mean'))\n",
    "colet_final_df['max_blink_duration'] = colet_final_df['max_blink_duration'].fillna(colet_final_df.groupby('file')['max_blink_duration'].transform('mean'))\n",
    "colet_final_df['skew_min_blink_duration'] = colet_final_df['skew_min_blink_duration'].fillna(colet_final_df.groupby('file')['skew_min_blink_duration'].transform('mean'))\n",
    "colet_final_df['skew_max_blink_duration'] = colet_final_df['skew_max_blink_duration'].fillna(colet_final_df.groupby('file')['skew_max_blink_duration'].transform('mean'))\n",
    "colet_final_df['kurtosis_max_blink_duration'] = colet_final_df['kurtosis_max_blink_duration'].fillna(colet_final_df.groupby('file')['kurtosis_max_blink_duration'].transform('mean'))\n",
    "\n",
    "\n",
    "\n"
   ]
  },
  {
   "cell_type": "code",
   "execution_count": null,
   "id": "bf4e59cd-5be3-4d09-aa36-3925c2a431cb",
   "metadata": {
    "tags": []
   },
   "outputs": [],
   "source": [
    "colet_final_df"
   ]
  },
  {
   "cell_type": "code",
   "execution_count": null,
   "id": "702281fb-5da6-4a41-b4fa-68ea3095d209",
   "metadata": {
    "tags": []
   },
   "outputs": [],
   "source": [
    "print(len(colet_final_df[colet_final_df['file'] == 'Task1_Subject_8.xlsx']))"
   ]
  },
  {
   "cell_type": "code",
   "execution_count": null,
   "id": "22c3bd14-39ce-4d31-b097-59d27c911d4c",
   "metadata": {
    "tags": []
   },
   "outputs": [],
   "source": [
    "colet_final_df = colet_final_df.dropna()"
   ]
  },
  {
   "cell_type": "code",
   "execution_count": null,
   "id": "a56952f9-d838-469e-b536-f732599da4f6",
   "metadata": {},
   "outputs": [],
   "source": [
    "colet_final_df.reset_index()"
   ]
  },
  {
   "cell_type": "code",
   "execution_count": null,
   "id": "62288037-0ddd-43d9-b227-860ae6229aaf",
   "metadata": {
    "tags": []
   },
   "outputs": [],
   "source": [
    "# seperating the target and input variables\n",
    "\n",
    "colet_target = colet_final_df['mean_1']\n",
    "\n",
    "colet_features = colet_final_df.drop(['mean_1', 'file', 'task'\n",
    "                                      #,'kurtosis_min_pupil_diamaeter',\t'skew_max_pupil_diameter',\t'kurtosis_max_pupil_diamaeter', 'skew_min_blink_duration',\t'kurtosis_min_blink_duration',\t'skew_max_blink_duration',\t'kurtosis_max_blink_duration', 'skew_max_velocity',\t'kurtosis_max_velocity',\t'skew_min_velocity'\t,'kurtosis_min_velocity'\n",
    "                                     ], axis=1)"
   ]
  },
  {
   "cell_type": "code",
   "execution_count": null,
   "id": "f6e02d12-a534-4494-8283-b6d72049816a",
   "metadata": {
    "tags": []
   },
   "outputs": [],
   "source": [
    "colet_features"
   ]
  },
  {
   "cell_type": "code",
   "execution_count": null,
   "id": "d265210e-73b0-48be-8095-558c2cd9b7bc",
   "metadata": {
    "tags": []
   },
   "outputs": [],
   "source": [
    "colet_features = colet_features.dropna()"
   ]
  },
  {
   "cell_type": "code",
   "execution_count": null,
   "id": "255b84e4-6684-45f0-9d0a-9ef37e48ffd2",
   "metadata": {
    "tags": []
   },
   "outputs": [],
   "source": [
    "colet_features.dtypes"
   ]
  },
  {
   "cell_type": "code",
   "execution_count": null,
   "id": "edbdd315-cc92-42e1-97b8-b0148faf6d0d",
   "metadata": {
    "tags": []
   },
   "outputs": [],
   "source": [
    "np.any(np.isnan(colet_features))"
   ]
  },
  {
   "cell_type": "code",
   "execution_count": null,
   "id": "25348474-27b9-483b-b871-40bd855f92d4",
   "metadata": {
    "tags": []
   },
   "outputs": [],
   "source": [
    "np.all(np.isfinite(colet_features))"
   ]
  },
  {
   "cell_type": "code",
   "execution_count": null,
   "id": "e00d7c2c-f646-441f-b624-511386322086",
   "metadata": {
    "tags": []
   },
   "outputs": [],
   "source": [
    "#scaling the data \n",
    "\n",
    "scaler = MinMaxScaler()\n",
    "model = scaler.fit(colet_features)\n",
    "colet_features = model.transform(colet_features)"
   ]
  },
  {
   "cell_type": "code",
   "execution_count": null,
   "id": "594ce61d-8c37-484a-a00b-c0c6b467eff4",
   "metadata": {
    "tags": []
   },
   "outputs": [],
   "source": [
    "#test-train split\n",
    "\n",
    "col_X_train, col_X_test, col_y_train, col_y_test = train_test_split(colet_features, colet_target, test_size=0.3, random_state=61)"
   ]
  },
  {
   "cell_type": "code",
   "execution_count": null,
   "id": "5048f444-f035-452a-8142-1c4584783d26",
   "metadata": {
    "tags": []
   },
   "outputs": [],
   "source": [
    "#fitting random forest to assist with feature importance - different to the KNN model earlier \n",
    "\n",
    "#naming features 0 to as many exist within the model\n",
    "feature_names = [f\"feature {i}\" for i in range(col_X_train.shape[1])]\n",
    "\n",
    "\n",
    "#including random state in here so that it can be reproduced - arbitrary number is used \n",
    "random_forest_classifier = RandomForestClassifier(random_state=14)\n",
    "random_forest_classifier.fit(col_X_train, col_y_train)\n",
    "\n",
    "#creating our MDI values using the random forest classifier \n",
    "feat_importances = random_forest_classifier.feature_importances_\n",
    "std = np.std([tree.feature_importances_ for tree in random_forest_classifier.estimators_], axis=0)\n",
    "\n",
    "#plotting our MDI for features - this will make it easier to interpret \n",
    "forest_importances = pd.Series(feat_importances, index=feature_names)\n",
    "\n",
    "fig, ax = plt.subplots()\n",
    "forest_importances.plot.bar(yerr=std, ax=ax)\n",
    "ax.set_title(\"MDI Feature Importance Random Forest\")\n",
    "ax.set_ylabel(\"MDI (Mean decrease in impurity)\")\n",
    "fig.tight_layout()"
   ]
  },
  {
   "cell_type": "code",
   "execution_count": null,
   "id": "aee2ad7e-eecb-46ed-8fb0-c789ce0675b0",
   "metadata": {
    "tags": []
   },
   "outputs": [],
   "source": [
    "# linear regression feature importance\n",
    "\n",
    "# our model will be a linear regression model \n",
    "model = LinearRegression()\n",
    "# fit the model\n",
    "model.fit(col_X_train, col_y_train)\n",
    "# get importance\n",
    "importance = model.coef_\n",
    "# summarize feature importance\n",
    "for i,v in enumerate(importance):\n",
    " print('Feature: %0d, Score: %.5f' % (i,v))\n",
    "# plot feature importance\n",
    "pyplot.bar([x for x in range(len(importance))], importance)\n",
    "pyplot.show()"
   ]
  },
  {
   "cell_type": "markdown",
   "id": "f21825f2-608b-4a76-8d39-45f351ef43da",
   "metadata": {},
   "source": [
    "# Converting tabular data to images"
   ]
  },
  {
   "cell_type": "code",
   "execution_count": 643,
   "id": "f120bfce-a443-4268-8908-2282b7007907",
   "metadata": {
    "tags": []
   },
   "outputs": [],
   "source": [
    "#https://www.kaggle.com/code/taranmarley/data-images-cnn\n",
    "\n",
    "#reshape data (we have already scaled it early on)\n",
    "\n",
    "y_scaler =  preprocessing.StandardScaler().fit(col_y_train.values.reshape(-1, 1))\n",
    "y_scaled_train = y_scaler.transform(col_y_train.values.reshape(-1, 1))\n",
    "y_scaled_test = y_scaler.transform(col_y_test.values.reshape(-1, 1))"
   ]
  },
  {
   "cell_type": "code",
   "execution_count": 179,
   "id": "820ab5a5-252c-475d-8e40-50cb3d5dc64f",
   "metadata": {
    "tags": []
   },
   "outputs": [],
   "source": [
    "#conversion to images\n",
    "\n",
    "model = Tab2Img()\n",
    "train_images = model.fit_transform(col_X_train, y_scaled_train)\n",
    "val_images = model.transform(col_X_test)\n",
    "test_images = model.transform(col_X_test)"
   ]
  },
  {
   "cell_type": "code",
   "execution_count": 180,
   "id": "1bdd4d11-8a32-4ce1-b2f8-3148cf4cc242",
   "metadata": {
    "tags": []
   },
   "outputs": [
    {
     "ename": "ValueError",
     "evalue": "cannot reshape array of size 25 into shape (17,17)",
     "output_type": "error",
     "traceback": [
      "\u001b[1;31m---------------------------------------------------------------------------\u001b[0m",
      "\u001b[1;31mValueError\u001b[0m                                Traceback (most recent call last)",
      "Cell \u001b[1;32mIn[180], line 3\u001b[0m\n\u001b[0;32m      1\u001b[0m fig,ax \u001b[38;5;241m=\u001b[39m plt\u001b[38;5;241m.\u001b[39msubplots(\u001b[38;5;241m2\u001b[39m,\u001b[38;5;241m5\u001b[39m)\n\u001b[0;32m      2\u001b[0m \u001b[38;5;28;01mfor\u001b[39;00m i \u001b[38;5;129;01min\u001b[39;00m \u001b[38;5;28mrange\u001b[39m(\u001b[38;5;241m10\u001b[39m):\n\u001b[1;32m----> 3\u001b[0m     nparray \u001b[38;5;241m=\u001b[39m \u001b[43mtest_images\u001b[49m\u001b[43m[\u001b[49m\u001b[43mi\u001b[49m\u001b[43m]\u001b[49m\u001b[38;5;241;43m.\u001b[39;49m\u001b[43mreshape\u001b[49m\u001b[43m(\u001b[49m\u001b[38;5;241;43m17\u001b[39;49m\u001b[43m,\u001b[49m\u001b[38;5;241;43m17\u001b[39;49m\u001b[43m)\u001b[49m\n\u001b[0;32m      4\u001b[0m     image \u001b[38;5;241m=\u001b[39m Image\u001b[38;5;241m.\u001b[39mfromarray(nparray \u001b[38;5;241m*\u001b[39m \u001b[38;5;241m255\u001b[39m)\n\u001b[0;32m      5\u001b[0m     ax[i\u001b[38;5;241m%\u001b[39m\u001b[38;5;241m2\u001b[39m][i\u001b[38;5;241m/\u001b[39m\u001b[38;5;241m/\u001b[39m\u001b[38;5;241m2\u001b[39m]\u001b[38;5;241m.\u001b[39mimshow(image)\n",
      "\u001b[1;31mValueError\u001b[0m: cannot reshape array of size 25 into shape (17,17)"
     ]
    },
    {
     "data": {
      "image/png": "[encoded data removed]",
      "text/plain": [
       "<Figure size 640x480 with 10 Axes>"
      ]
     },
     "metadata": {},
     "output_type": "display_data"
    }
   ],
   "source": [
    "fig,ax = plt.subplots(2,5)\n",
    "for i in range(10):\n",
    "    nparray = test_images[i].reshape(17,17)\n",
    "    image = Image.fromarray(nparray * 255)\n",
    "    ax[i%2][i//2].imshow(image)\n",
    "fig.show()"
   ]
  },
  {
   "cell_type": "markdown",
   "id": "de6bfb93-533b-44af-a9dc-29eb5ec7bee7",
   "metadata": {},
   "source": [
    "# Maching learning models"
   ]
  },
  {
   "cell_type": "markdown",
   "id": "8a9087d8-ba0a-4c86-b50a-3400d2a46aa8",
   "metadata": {},
   "source": [
    "## SVM"
   ]
  },
  {
   "cell_type": "code",
   "execution_count": null,
   "id": "fbd563b5-39dd-4b61-b47c-1af7049f3a59",
   "metadata": {
    "tags": []
   },
   "outputs": [],
   "source": [
    "# parameters for the grid search\n",
    "param_grid = {'C': [0.1, 1, 10, 100, 1000, 10000], \n",
    "              'kernel': ['linear', 'poly', 'rbf', 'sigmoid'],\n",
    "              'gamma': [1, 0.1, 0.01, 0.001, 0.0001, 0.00001]} \n",
    "\n",
    "#verbose = 1 to limit the amount of output we see from python   \n",
    "gridsearch = GridSearchCV(SVC(),  param_grid, refit = True, cv = 10, verbose = 1, scoring='accuracy')\n",
    "  \n",
    "# fitting the gridsearch onto the model - using our testing data\n",
    "gridsearch.fit(col_X_train, col_y_train)"
   ]
  },
  {
   "cell_type": "code",
   "execution_count": null,
   "id": "b7c7e70f-69b3-4732-a701-c3e8325248fa",
   "metadata": {
    "tags": []
   },
   "outputs": [],
   "source": [
    "# optimal hyperparameters \n",
    "print(gridsearch.best_params_)\n",
    "  \n",
    "# best estimators\n",
    "print(gridsearch.best_estimator_)\n",
    "\n",
    "#save parameters to input into the model \n",
    "svm_colet_hyper = gridsearch.best_params_\n",
    "best_score = gridsearch.best_score_"
   ]
  },
  {
   "cell_type": "code",
   "execution_count": null,
   "id": "6ed90590-83f7-46c7-9103-4fbbc59e0304",
   "metadata": {
    "tags": []
   },
   "outputs": [],
   "source": [
    "#creating the SVC model\n",
    "\n",
    "# using hyperparmaters identified earlier, we can call these as we saved them, saves a lot of time \n",
    "support_vc=SVC(C = svm_colet_hyper['C'], \n",
    "gamma=svm_colet_hyper['gamma'], \n",
    "kernel=svm_colet_hyper['kernel'], \n",
    "random_state = 52) \n",
    "\n",
    "# fit to training set\n",
    "support_vc.fit(col_X_train,col_y_train)\n",
    "\n",
    "# predictions on test set\n",
    "y_pred=support_vc.predict(col_X_test)\n",
    "\n",
    "#accuracy score\n",
    "acc = accuracy_score(col_y_test,y_pred)\n",
    "\n",
    "# F1 score\n",
    "\n",
    "print(classification_report(col_y_test, y_pred, digits=4))"
   ]
  },
  {
   "cell_type": "markdown",
   "id": "6f044b47-6b16-43ab-93fb-eedea4bdf1e2",
   "metadata": {},
   "source": [
    "## CART"
   ]
  },
  {
   "cell_type": "code",
   "execution_count": null,
   "id": "a2ea0ad9-c4f0-48b1-816f-e4b31a80e5f3",
   "metadata": {
    "tags": []
   },
   "outputs": [],
   "source": [
    "decist = DecisionTreeClassifier(random_state=1)\n",
    "# Createing our grid of hyperparameters - these are what will be searched by the grid \n",
    "params_decist = {\n",
    "'max_depth': [2, 3,4,5, 6,8,10],\n",
    "'min_samples_leaf': [0.04, 0.06, 0.08, 0.10,0.2,0.4],\n",
    "'max_features': [0.2, 0.4,0.6, 0.8, 0.10,0.2,0.4]\n",
    "}\n",
    "# doing our cross fold search through the grid, checkign by accuracy \n",
    "#making use of gridsearch to find the optimal values - note verbose = 1 to limit the amount of output we see from python  \n",
    "grid_decist = GridSearchCV(estimator=decist,\n",
    "param_grid=params_decist,\n",
    "scoring=\n",
    "'accuracy'\n",
    ",\n",
    "cv=10,\n",
    "n_jobs=-1)"
   ]
  },
  {
   "cell_type": "code",
   "execution_count": null,
   "id": "191b84be-c0ac-4d3a-bc5d-e88f40e9bc80",
   "metadata": {
    "tags": []
   },
   "outputs": [],
   "source": [
    "# Fitting the grid to our training data to then find our best hyperparameters \n",
    "grid_decist.fit(col_X_train, col_y_train)\n",
    "\n",
    "#print best hyperparameters as found earlier - these will be used to run our model \n",
    "cart_colet_hyper = grid_decist.best_params_\n",
    "print('Best hyerparameters for CART:', cart_colet_hyper)"
   ]
  },
  {
   "cell_type": "code",
   "execution_count": null,
   "id": "17fa2a95-5fce-4785-9ef7-7d7e2ed6a768",
   "metadata": {
    "tags": []
   },
   "outputs": [],
   "source": [
    "#create teh final model with our best hyperparameters \n",
    "\n",
    "final_model = DecisionTreeClassifier(max_depth = cart_colet_hyper['max_depth'], \n",
    "                                     max_features = cart_colet_hyper['max_features'], min_samples_leaf = cart_colet_hyper['min_samples_leaf'], random_state = 50)\n",
    "final_model.fit(col_X_train, col_y_train)\n",
    "\n",
    "print(final_model)\n",
    "\n",
    "#test them \n",
    "expected_y  = col_y_test\n",
    "predicted_y = final_model.predict(col_X_test)\n",
    "#predicting values from logistic regression and viewing our test score\n",
    "y_pred = final_model.predict(col_X_test)\n",
    "print('Accuracy of CART classifier on test set: {:.4f}'.format(final_model.score(col_X_test, col_y_test)))\n",
    "\n",
    "# F1 score\n",
    "print(classification_report(col_y_test, y_pred, digits=4))"
   ]
  },
  {
   "cell_type": "markdown",
   "id": "cbeb04fa-af03-468a-9fcd-97b4ae2e6f67",
   "metadata": {},
   "source": [
    "## GNB"
   ]
  },
  {
   "cell_type": "code",
   "execution_count": null,
   "id": "1a7be04d-e1af-484c-999e-4aae2e17e6dc",
   "metadata": {
    "tags": []
   },
   "outputs": [],
   "source": [
    "#set cross validation method\n",
    "cv_method = RepeatedStratifiedKFold(n_splits=5, \n",
    "                                    n_repeats=10, \n",
    "                                    random_state=52)"
   ]
  },
  {
   "cell_type": "code",
   "execution_count": null,
   "id": "79e9d53d-8b12-45a0-9b42-fc891366fe08",
   "metadata": {
    "tags": []
   },
   "outputs": [],
   "source": [
    "#create model and gridsearch using cv method noted above \n",
    "model = GaussianNB()\n",
    "params_NB = {'var_smoothing': np.logspace(0,-9, num=100)}\n",
    "\n",
    "gs_NB = GridSearchCV(estimator=model, \n",
    "                     param_grid=params_NB, \n",
    "                     cv=cv_method,\n",
    "                     verbose=1, \n",
    "                     scoring='accuracy')\n",
    "\n",
    "Data_transformed = PowerTransformer().fit_transform(col_X_test)\n",
    "\n",
    "gs_NB.fit(col_X_test, col_y_test)\n",
    "\n",
    "#get best parametesr \n",
    "gnb_colet_params = gs_NB.best_params_"
   ]
  },
  {
   "cell_type": "code",
   "execution_count": null,
   "id": "077efe14-4918-4fa4-b393-26c04460b23b",
   "metadata": {
    "tags": []
   },
   "outputs": [],
   "source": [
    "nb = GaussianNB(var_smoothing = gnb_colet_params['var_smoothing'])\n",
    "nb.fit(col_X_test, col_y_test)\n",
    "# make predictions on test set\n",
    "y_pred=nb.predict(col_X_test)\n",
    "\n",
    "#confm = confusion_matrix(col_y_test, y_pred)\n",
    "acc = accuracy_score(col_y_test,y_pred)\n",
    "\n",
    "print(classification_report(col_y_test, y_pred, digits=4))"
   ]
  },
  {
   "cell_type": "markdown",
   "id": "094c1f2b-7622-4ddc-bb8f-86a0303c0e32",
   "metadata": {},
   "source": [
    "## Light GBM"
   ]
  },
  {
   "cell_type": "markdown",
   "id": "e3e38330-1663-4897-971e-293f7189cf8f",
   "metadata": {
    "tags": []
   },
   "source": [
    "\n",
    "colet_gbm = lgb.LGBMClassifier(verbose=0)\n",
    "\n",
    "cgbm_param_grid = {'learning_rate': [0.2, 0.1, 0.05, 0.01, 0.001, 0.001], 'n_estimators': [50, 100, 150, 200, 250, 300, 400, 500], 'max_depth': [1, 3, 5, 7, 10],  }\n",
    "\n",
    "gs_cgbm = GridSearchCV(estimator=colet_gbm, param_grid=cgbm_param_grid, cv=cv_method)\n",
    "\n",
    "gs_cgbm.fit(col_X_train, col_y_train)\n",
    "\n",
    "gbm_colet_params = gs_cgbm.best_params_"
   ]
  },
  {
   "cell_type": "code",
   "execution_count": null,
   "id": "42b80297-1e9b-4bc3-82f5-7eab0c9d781f",
   "metadata": {},
   "outputs": [],
   "source": [
    "colet_gbm = lgb.LGBMClassifier(learning_rate = gbm_colet_params['learning_rate'], max_depth = gbm_colet_params['max_depth'], n_estimators = gbm_colet_params['n_estimators'], verbose=0)\n",
    "colet_gbm.fit(col_X_train, col_y_train, eval_set=[(col_X_train, col_y_train),(col_X_test, col_y_test)])"
   ]
  },
  {
   "cell_type": "markdown",
   "id": "e47f2bac-96d8-44a6-a63b-ef5f383e2926",
   "metadata": {},
   "source": [
    "# TabNet"
   ]
  },
  {
   "cell_type": "markdown",
   "id": "f871bc56-cac7-4ad7-9a09-5d8de7d4b71e",
   "metadata": {
    "tags": []
   },
   "source": [
    "# Define your TabNetClassifier with custom parameters\n",
    "classifier = TabNetClassifier(\n",
    "    seed=42,\n",
    "    optimizer_params=dict(lr=0.01),  # Modify the learning rate here (lr=0.01 as an example)\n",
    "    scheduler_params={\"step_size\": 10, \"gamma\": 0.9},  # Learning rate scheduler parameters\n",
    "    verbose=1  # Set verbosity level\n",
    ")"
   ]
  },
  {
   "cell_type": "code",
   "execution_count": null,
   "id": "2e16cca2-584e-42d7-8bf7-23cd911722d7",
   "metadata": {},
   "outputs": [],
   "source": [
    "classifier = TabNetClassifier(seed=42, verbose = 0)\n",
    "classifier.fit(X_train=col_X_train, y_train=col_y_train,\n",
    "               patience=5,max_epochs=10000,\n",
    "               eval_metric=['auc'])"
   ]
  },
  {
   "cell_type": "code",
   "execution_count": null,
   "id": "6abf1367-5e4c-4616-8681-1ca696534ce6",
   "metadata": {},
   "outputs": [],
   "source": [
    "y_pred=classifier.predict(col_X_test)\n",
    "print(classification_report(col_y_test, y_pred))"
   ]
  },
  {
   "cell_type": "code",
   "execution_count": null,
   "id": "0b87893e-11db-4734-a9e8-6b71ebdba0e9",
   "metadata": {},
   "outputs": [],
   "source": []
  }
 ],
 "metadata": {
  "kernelspec": {
   "display_name": "Python 3 (ipykernel)",
   "language": "python",
   "name": "python3"
  },
  "language_info": {
   "codemirror_mode": {
    "name": "ipython",
    "version": 3
   },
   "file_extension": ".py",
   "mimetype": "text/x-python",
   "name": "python",
   "nbconvert_exporter": "python",
   "pygments_lexer": "ipython3",
   "version": "3.10.13"
  }
 },
 "nbformat": 4,
 "nbformat_minor": 5
}
