{
  "nbformat": 4,
  "nbformat_minor": 0,
  "metadata": {
    "colab": {
      "provenance": [],
      "authorship_tag": "ABX9TyPlGte3C6VlGRPLGC5tJrVb",
      "include_colab_link": true
    },
    "kernelspec": {
      "name": "python3",
      "display_name": "Python 3"
    },
    "language_info": {
      "name": "python"
    }
  },
  "cells": [
    {
      "cell_type": "markdown",
      "metadata": {
        "id": "view-in-github",
        "colab_type": "text"
      },
      "source": [
        "<a href=\"https://colab.research.google.com/github/AndrewHallam1/SIT724/blob/main/Google%20Colab%20Copy.ipynb\" target=\"_parent\"><img src=\"https://colab.research.google.com/assets/colab-badge.svg\" alt=\"Open In Colab\"/></a>"
      ]
    },
    {
      "cell_type": "code",
      "source": [
        "#Additional installs as not included in Colab as a base package.\n",
        "\n",
        "!pip install pytorch_tabnet"
      ],
      "metadata": {
        "colab": {
          "base_uri": "https://localhost:8080/"
        },
        "id": "98L2ihA6TxKA",
        "outputId": "75da968d-0a7c-4c0b-90f2-9182165be6cf"
      },
      "execution_count": 2,
      "outputs": [
        {
          "output_type": "stream",
          "name": "stdout",
          "text": [
            "Collecting pytorch_tabnet\n",
            "  Downloading pytorch_tabnet-4.1.0-py3-none-any.whl (44 kB)\n",
            "\u001b[2K     \u001b[90m━━━━━━━━━━━━━━━━━━━━━━━━━━━━━━━━━━━━━━━━\u001b[0m \u001b[32m44.5/44.5 kB\u001b[0m \u001b[31m795.5 kB/s\u001b[0m eta \u001b[36m0:00:00\u001b[0m\n",
            "\u001b[?25hRequirement already satisfied: numpy>=1.17 in /usr/local/lib/python3.10/dist-packages (from pytorch_tabnet) (1.25.2)\n",
            "Requirement already satisfied: scikit_learn>0.21 in /usr/local/lib/python3.10/dist-packages (from pytorch_tabnet) (1.2.2)\n",
            "Requirement already satisfied: scipy>1.4 in /usr/local/lib/python3.10/dist-packages (from pytorch_tabnet) (1.11.4)\n",
            "Requirement already satisfied: torch>=1.3 in /usr/local/lib/python3.10/dist-packages (from pytorch_tabnet) (2.2.1+cu121)\n",
            "Requirement already satisfied: tqdm>=4.36 in /usr/local/lib/python3.10/dist-packages (from pytorch_tabnet) (4.66.2)\n",
            "Requirement already satisfied: joblib>=1.1.1 in /usr/local/lib/python3.10/dist-packages (from scikit_learn>0.21->pytorch_tabnet) (1.3.2)\n",
            "Requirement already satisfied: threadpoolctl>=2.0.0 in /usr/local/lib/python3.10/dist-packages (from scikit_learn>0.21->pytorch_tabnet) (3.4.0)\n",
            "Requirement already satisfied: filelock in /usr/local/lib/python3.10/dist-packages (from torch>=1.3->pytorch_tabnet) (3.13.3)\n",
            "Requirement already satisfied: typing-extensions>=4.8.0 in /usr/local/lib/python3.10/dist-packages (from torch>=1.3->pytorch_tabnet) (4.10.0)\n",
            "Requirement already satisfied: sympy in /usr/local/lib/python3.10/dist-packages (from torch>=1.3->pytorch_tabnet) (1.12)\n",
            "Requirement already satisfied: networkx in /usr/local/lib/python3.10/dist-packages (from torch>=1.3->pytorch_tabnet) (3.2.1)\n",
            "Requirement already satisfied: jinja2 in /usr/local/lib/python3.10/dist-packages (from torch>=1.3->pytorch_tabnet) (3.1.3)\n",
            "Requirement already satisfied: fsspec in /usr/local/lib/python3.10/dist-packages (from torch>=1.3->pytorch_tabnet) (2023.6.0)\n",
            "Collecting nvidia-cuda-nvrtc-cu12==12.1.105 (from torch>=1.3->pytorch_tabnet)\n",
            "  Downloading nvidia_cuda_nvrtc_cu12-12.1.105-py3-none-manylinux1_x86_64.whl (23.7 MB)\n",
            "\u001b[2K     \u001b[90m━━━━━━━━━━━━━━━━━━━━━━━━━━━━━━━━━━━━━━━━\u001b[0m \u001b[32m23.7/23.7 MB\u001b[0m \u001b[31m35.9 MB/s\u001b[0m eta \u001b[36m0:00:00\u001b[0m\n",
            "\u001b[?25hCollecting nvidia-cuda-runtime-cu12==12.1.105 (from torch>=1.3->pytorch_tabnet)\n",
            "  Downloading nvidia_cuda_runtime_cu12-12.1.105-py3-none-manylinux1_x86_64.whl (823 kB)\n",
            "\u001b[2K     \u001b[90m━━━━━━━━━━━━━━━━━━━━━━━━━━━━━━━━━━━━━━━━\u001b[0m \u001b[32m823.6/823.6 kB\u001b[0m \u001b[31m49.4 MB/s\u001b[0m eta \u001b[36m0:00:00\u001b[0m\n",
            "\u001b[?25hCollecting nvidia-cuda-cupti-cu12==12.1.105 (from torch>=1.3->pytorch_tabnet)\n",
            "  Downloading nvidia_cuda_cupti_cu12-12.1.105-py3-none-manylinux1_x86_64.whl (14.1 MB)\n",
            "\u001b[2K     \u001b[90m━━━━━━━━━━━━━━━━━━━━━━━━━━━━━━━━━━━━━━━━\u001b[0m \u001b[32m14.1/14.1 MB\u001b[0m \u001b[31m36.2 MB/s\u001b[0m eta \u001b[36m0:00:00\u001b[0m\n",
            "\u001b[?25hCollecting nvidia-cudnn-cu12==8.9.2.26 (from torch>=1.3->pytorch_tabnet)\n",
            "  Downloading nvidia_cudnn_cu12-8.9.2.26-py3-none-manylinux1_x86_64.whl (731.7 MB)\n",
            "\u001b[2K     \u001b[90m━━━━━━━━━━━━━━━━━━━━━━━━━━━━━━━━━━━━━━━━\u001b[0m \u001b[32m731.7/731.7 MB\u001b[0m \u001b[31m1.6 MB/s\u001b[0m eta \u001b[36m0:00:00\u001b[0m\n",
            "\u001b[?25hCollecting nvidia-cublas-cu12==12.1.3.1 (from torch>=1.3->pytorch_tabnet)\n",
            "  Downloading nvidia_cublas_cu12-12.1.3.1-py3-none-manylinux1_x86_64.whl (410.6 MB)\n",
            "\u001b[2K     \u001b[90m━━━━━━━━━━━━━━━━━━━━━━━━━━━━━━━━━━━━━━━━\u001b[0m \u001b[32m410.6/410.6 MB\u001b[0m \u001b[31m1.6 MB/s\u001b[0m eta \u001b[36m0:00:00\u001b[0m\n",
            "\u001b[?25hCollecting nvidia-cufft-cu12==11.0.2.54 (from torch>=1.3->pytorch_tabnet)\n",
            "  Downloading nvidia_cufft_cu12-11.0.2.54-py3-none-manylinux1_x86_64.whl (121.6 MB)\n",
            "\u001b[2K     \u001b[90m━━━━━━━━━━━━━━━━━━━━━━━━━━━━━━━━━━━━━━━━\u001b[0m \u001b[32m121.6/121.6 MB\u001b[0m \u001b[31m3.4 MB/s\u001b[0m eta \u001b[36m0:00:00\u001b[0m\n",
            "\u001b[?25hCollecting nvidia-curand-cu12==10.3.2.106 (from torch>=1.3->pytorch_tabnet)\n",
            "  Downloading nvidia_curand_cu12-10.3.2.106-py3-none-manylinux1_x86_64.whl (56.5 MB)\n",
            "\u001b[2K     \u001b[90m━━━━━━━━━━━━━━━━━━━━━━━━━━━━━━━━━━━━━━━━\u001b[0m \u001b[32m56.5/56.5 MB\u001b[0m \u001b[31m4.0 MB/s\u001b[0m eta \u001b[36m0:00:00\u001b[0m\n",
            "\u001b[?25hCollecting nvidia-cusolver-cu12==11.4.5.107 (from torch>=1.3->pytorch_tabnet)\n",
            "  Downloading nvidia_cusolver_cu12-11.4.5.107-py3-none-manylinux1_x86_64.whl (124.2 MB)\n",
            "\u001b[2K     \u001b[90m━━━━━━━━━━━━━━━━━━━━━━━━━━━━━━━━━━━━━━━━\u001b[0m \u001b[32m124.2/124.2 MB\u001b[0m \u001b[31m3.3 MB/s\u001b[0m eta \u001b[36m0:00:00\u001b[0m\n",
            "\u001b[?25hCollecting nvidia-cusparse-cu12==12.1.0.106 (from torch>=1.3->pytorch_tabnet)\n",
            "  Downloading nvidia_cusparse_cu12-12.1.0.106-py3-none-manylinux1_x86_64.whl (196.0 MB)\n",
            "\u001b[2K     \u001b[90m━━━━━━━━━━━━━━━━━━━━━━━━━━━━━━━━━━━━━━━━\u001b[0m \u001b[32m196.0/196.0 MB\u001b[0m \u001b[31m2.5 MB/s\u001b[0m eta \u001b[36m0:00:00\u001b[0m\n",
            "\u001b[?25hCollecting nvidia-nccl-cu12==2.19.3 (from torch>=1.3->pytorch_tabnet)\n",
            "  Downloading nvidia_nccl_cu12-2.19.3-py3-none-manylinux1_x86_64.whl (166.0 MB)\n",
            "\u001b[2K     \u001b[90m━━━━━━━━━━━━━━━━━━━━━━━━━━━━━━━━━━━━━━━━\u001b[0m \u001b[32m166.0/166.0 MB\u001b[0m \u001b[31m2.6 MB/s\u001b[0m eta \u001b[36m0:00:00\u001b[0m\n",
            "\u001b[?25hCollecting nvidia-nvtx-cu12==12.1.105 (from torch>=1.3->pytorch_tabnet)\n",
            "  Downloading nvidia_nvtx_cu12-12.1.105-py3-none-manylinux1_x86_64.whl (99 kB)\n",
            "\u001b[2K     \u001b[90m━━━━━━━━━━━━━━━━━━━━━━━━━━━━━━━━━━━━━━━━\u001b[0m \u001b[32m99.1/99.1 kB\u001b[0m \u001b[31m4.0 MB/s\u001b[0m eta \u001b[36m0:00:00\u001b[0m\n",
            "\u001b[?25hRequirement already satisfied: triton==2.2.0 in /usr/local/lib/python3.10/dist-packages (from torch>=1.3->pytorch_tabnet) (2.2.0)\n",
            "Collecting nvidia-nvjitlink-cu12 (from nvidia-cusolver-cu12==11.4.5.107->torch>=1.3->pytorch_tabnet)\n",
            "  Downloading nvidia_nvjitlink_cu12-12.4.99-py3-none-manylinux2014_x86_64.whl (21.1 MB)\n",
            "\u001b[2K     \u001b[90m━━━━━━━━━━━━━━━━━━━━━━━━━━━━━━━━━━━━━━━━\u001b[0m \u001b[32m21.1/21.1 MB\u001b[0m \u001b[31m2.8 MB/s\u001b[0m eta \u001b[36m0:00:00\u001b[0m\n",
            "\u001b[?25hRequirement already satisfied: MarkupSafe>=2.0 in /usr/local/lib/python3.10/dist-packages (from jinja2->torch>=1.3->pytorch_tabnet) (2.1.5)\n",
            "Requirement already satisfied: mpmath>=0.19 in /usr/local/lib/python3.10/dist-packages (from sympy->torch>=1.3->pytorch_tabnet) (1.3.0)\n",
            "Installing collected packages: nvidia-nvtx-cu12, nvidia-nvjitlink-cu12, nvidia-nccl-cu12, nvidia-curand-cu12, nvidia-cufft-cu12, nvidia-cuda-runtime-cu12, nvidia-cuda-nvrtc-cu12, nvidia-cuda-cupti-cu12, nvidia-cublas-cu12, nvidia-cusparse-cu12, nvidia-cudnn-cu12, nvidia-cusolver-cu12, pytorch_tabnet\n",
            "Successfully installed nvidia-cublas-cu12-12.1.3.1 nvidia-cuda-cupti-cu12-12.1.105 nvidia-cuda-nvrtc-cu12-12.1.105 nvidia-cuda-runtime-cu12-12.1.105 nvidia-cudnn-cu12-8.9.2.26 nvidia-cufft-cu12-11.0.2.54 nvidia-curand-cu12-10.3.2.106 nvidia-cusolver-cu12-11.4.5.107 nvidia-cusparse-cu12-12.1.0.106 nvidia-nccl-cu12-2.19.3 nvidia-nvjitlink-cu12-12.4.99 nvidia-nvtx-cu12-12.1.105 pytorch_tabnet-4.1.0\n"
          ]
        }
      ]
    },
    {
      "cell_type": "code",
      "execution_count": 3,
      "metadata": {
        "id": "JvK61wL7Q4Lj"
      },
      "outputs": [],
      "source": [
        "# Import libraries and packages\n",
        "\n",
        "import os\n",
        "import pandas as pd\n",
        "import numpy as np\n",
        "import warnings\n",
        "warnings.filterwarnings(\"ignore\")\n",
        "import time\n",
        "from sklearn.model_selection import train_test_split\n",
        "from sklearn.ensemble import RandomForestClassifier\n",
        "from sklearn.neighbors import KNeighborsRegressor\n",
        "from sklearn.inspection import permutation_importance\n",
        "start = time.time()\n",
        "import numpy\n",
        "from sklearn.datasets import make_regression\n",
        "from sklearn.linear_model import LinearRegression\n",
        "from matplotlib import pyplot\n",
        "from sklearn.model_selection import GridSearchCV\n",
        "import matplotlib.pyplot as plt\n",
        "from sklearn.svm import SVC\n",
        "from sklearn.metrics import classification_report, confusion_matrix, accuracy_score, ConfusionMatrixDisplay\n",
        "from sklearn.preprocessing import MinMaxScaler\n",
        "from sklearn.tree import DecisionTreeClassifier\n",
        "from sklearn.naive_bayes import GaussianNB\n",
        "from sklearn.model_selection import RepeatedStratifiedKFold\n",
        "from sklearn.preprocessing import PowerTransformer\n",
        "from sklearn.ensemble import StackingClassifier\n",
        "from sklearn.model_selection import cross_val_score as cvs\n",
        "from sklearn.model_selection import StratifiedShuffleSplit\n",
        "\n",
        "#deep learning\n",
        "from tensorflow.keras import layers\n",
        "from tensorflow.keras import models\n",
        "from keras.callbacks import EarlyStopping\n",
        "import torch\n",
        "from torch import nn\n",
        "from pytorch_tabnet.tab_model import TabNetClassifier\n",
        "from sklearn.impute import SimpleImputer\n"
      ]
    },
    {
      "cell_type": "code",
      "source": [
        "#mounting google drive\n",
        "\n",
        "from google.colab import drive\n",
        "drive.mount('/content/drive')"
      ],
      "metadata": {
        "colab": {
          "base_uri": "https://localhost:8080/"
        },
        "id": "dVUA_G8mWWAJ",
        "outputId": "89d54b39-800a-4919-985c-73133360f7cf"
      },
      "execution_count": 4,
      "outputs": [
        {
          "output_type": "stream",
          "name": "stdout",
          "text": [
            "Mounted at /content/drive\n"
          ]
        }
      ]
    },
    {
      "cell_type": "markdown",
      "source": [
        "# **COLET DATA FILES**"
      ],
      "metadata": {
        "id": "dbGeM0htXyoE"
      }
    },
    {
      "cell_type": "code",
      "source": [
        "#Getting all files for COLET\n",
        "\n",
        "#setting file path from google drive\n",
        "folder_path = '/content/drive/MyDrive/SIT724 Data/COLET'\n",
        "\n",
        "#obtaining all files within this file path\n",
        "files_xlsx = os.listdir(folder_path)\n",
        "\n",
        "#all files\n",
        "# Iterate over the files and print their names\n",
        "for file in files_xlsx:\n",
        "    file_path = os.path.join(folder_path, file)\n",
        "    print(file_path)"
      ],
      "metadata": {
        "colab": {
          "base_uri": "https://localhost:8080/"
        },
        "id": "-hYpqcORW1ay",
        "outputId": "04986fce-b08e-40aa-f747-f57094ba956a"
      },
      "execution_count": 12,
      "outputs": [
        {
          "output_type": "stream",
          "name": "stdout",
          "text": [
            "/content/drive/MyDrive/SIT724 Data/COLET/Task1_Subject_2.xlsx\n",
            "/content/drive/MyDrive/SIT724 Data/COLET/Task1_Subject_3.xlsx\n",
            "/content/drive/MyDrive/SIT724 Data/COLET/Task1_Subject_4.xlsx\n",
            "/content/drive/MyDrive/SIT724 Data/COLET/Task1_Subject_5.xlsx\n",
            "/content/drive/MyDrive/SIT724 Data/COLET/Task1_Subject_6.xlsx\n",
            "/content/drive/MyDrive/SIT724 Data/COLET/Task1_Subject_7.xlsx\n",
            "/content/drive/MyDrive/SIT724 Data/COLET/Task1_Subject_8.xlsx\n",
            "/content/drive/MyDrive/SIT724 Data/COLET/Task1_Subject_9.xlsx\n",
            "/content/drive/MyDrive/SIT724 Data/COLET/Task1_Subject_10.xlsx\n",
            "/content/drive/MyDrive/SIT724 Data/COLET/Task1_Subject_11.xlsx\n",
            "/content/drive/MyDrive/SIT724 Data/COLET/Task1_Subject_13.xlsx\n",
            "/content/drive/MyDrive/SIT724 Data/COLET/Task1_Subject_12.xlsx\n",
            "/content/drive/MyDrive/SIT724 Data/COLET/Task1_Subject_14.xlsx\n",
            "/content/drive/MyDrive/SIT724 Data/COLET/Task1_Subject_15.xlsx\n",
            "/content/drive/MyDrive/SIT724 Data/COLET/Task1_Subject_16.xlsx\n",
            "/content/drive/MyDrive/SIT724 Data/COLET/Task1_Subject_17.xlsx\n",
            "/content/drive/MyDrive/SIT724 Data/COLET/Task1_Subject_18.xlsx\n",
            "/content/drive/MyDrive/SIT724 Data/COLET/Task1_Subject_19.xlsx\n",
            "/content/drive/MyDrive/SIT724 Data/COLET/Task1_Subject_20.xlsx\n",
            "/content/drive/MyDrive/SIT724 Data/COLET/Task1_Subject_21.xlsx\n",
            "/content/drive/MyDrive/SIT724 Data/COLET/Task1_Subject_22.xlsx\n",
            "/content/drive/MyDrive/SIT724 Data/COLET/Task1_Subject_23.xlsx\n",
            "/content/drive/MyDrive/SIT724 Data/COLET/Task1_Subject_25.xlsx\n",
            "/content/drive/MyDrive/SIT724 Data/COLET/Task1_Subject_24.xlsx\n",
            "/content/drive/MyDrive/SIT724 Data/COLET/Task1_Subject_26.xlsx\n",
            "/content/drive/MyDrive/SIT724 Data/COLET/Task1_Subject_27.xlsx\n",
            "/content/drive/MyDrive/SIT724 Data/COLET/Task1_Subject_28.xlsx\n",
            "/content/drive/MyDrive/SIT724 Data/COLET/Task1_Subject_29.xlsx\n",
            "/content/drive/MyDrive/SIT724 Data/COLET/Task1_Subject_30.xlsx\n",
            "/content/drive/MyDrive/SIT724 Data/COLET/Task1_Subject_31.xlsx\n",
            "/content/drive/MyDrive/SIT724 Data/COLET/Task1_Subject_32.xlsx\n",
            "/content/drive/MyDrive/SIT724 Data/COLET/Task1_Subject_33.xlsx\n",
            "/content/drive/MyDrive/SIT724 Data/COLET/Task1_Subject_34.xlsx\n",
            "/content/drive/MyDrive/SIT724 Data/COLET/Task1_Subject_35.xlsx\n",
            "/content/drive/MyDrive/SIT724 Data/COLET/Task1_Subject_36.xlsx\n",
            "/content/drive/MyDrive/SIT724 Data/COLET/Task1_Subject_38.xlsx\n",
            "/content/drive/MyDrive/SIT724 Data/COLET/Task1_Subject_37.xlsx\n",
            "/content/drive/MyDrive/SIT724 Data/COLET/Task1_Subject_39.xlsx\n",
            "/content/drive/MyDrive/SIT724 Data/COLET/Task1_Subject_40.xlsx\n",
            "/content/drive/MyDrive/SIT724 Data/COLET/Task1_Subject_41.xlsx\n",
            "/content/drive/MyDrive/SIT724 Data/COLET/Task1_Subject_42.xlsx\n",
            "/content/drive/MyDrive/SIT724 Data/COLET/Task1_Subject_43.xlsx\n",
            "/content/drive/MyDrive/SIT724 Data/COLET/Task1_Subject_44.xlsx\n",
            "/content/drive/MyDrive/SIT724 Data/COLET/Task1_Subject_1.xlsx\n"
          ]
        }
      ]
    },
    {
      "cell_type": "code",
      "source": [
        "files_xlsx"
      ],
      "metadata": {
        "colab": {
          "base_uri": "https://localhost:8080/"
        },
        "id": "rzxJQ7F8ZDP1",
        "outputId": "4ab16c42-1243-474c-d31c-4cdc2aaed4c9"
      },
      "execution_count": 15,
      "outputs": [
        {
          "output_type": "execute_result",
          "data": {
            "text/plain": [
              "['Task1_Subject_2.xlsx',\n",
              " 'Task1_Subject_3.xlsx',\n",
              " 'Task1_Subject_4.xlsx',\n",
              " 'Task1_Subject_5.xlsx',\n",
              " 'Task1_Subject_6.xlsx',\n",
              " 'Task1_Subject_7.xlsx',\n",
              " 'Task1_Subject_8.xlsx',\n",
              " 'Task1_Subject_9.xlsx',\n",
              " 'Task1_Subject_10.xlsx',\n",
              " 'Task1_Subject_11.xlsx',\n",
              " 'Task1_Subject_13.xlsx',\n",
              " 'Task1_Subject_12.xlsx',\n",
              " 'Task1_Subject_14.xlsx',\n",
              " 'Task1_Subject_15.xlsx',\n",
              " 'Task1_Subject_16.xlsx',\n",
              " 'Task1_Subject_17.xlsx',\n",
              " 'Task1_Subject_18.xlsx',\n",
              " 'Task1_Subject_19.xlsx',\n",
              " 'Task1_Subject_20.xlsx',\n",
              " 'Task1_Subject_21.xlsx',\n",
              " 'Task1_Subject_22.xlsx',\n",
              " 'Task1_Subject_23.xlsx',\n",
              " 'Task1_Subject_25.xlsx',\n",
              " 'Task1_Subject_24.xlsx',\n",
              " 'Task1_Subject_26.xlsx',\n",
              " 'Task1_Subject_27.xlsx',\n",
              " 'Task1_Subject_28.xlsx',\n",
              " 'Task1_Subject_29.xlsx',\n",
              " 'Task1_Subject_30.xlsx',\n",
              " 'Task1_Subject_31.xlsx',\n",
              " 'Task1_Subject_32.xlsx',\n",
              " 'Task1_Subject_33.xlsx',\n",
              " 'Task1_Subject_34.xlsx',\n",
              " 'Task1_Subject_35.xlsx',\n",
              " 'Task1_Subject_36.xlsx',\n",
              " 'Task1_Subject_38.xlsx',\n",
              " 'Task1_Subject_37.xlsx',\n",
              " 'Task1_Subject_39.xlsx',\n",
              " 'Task1_Subject_40.xlsx',\n",
              " 'Task1_Subject_41.xlsx',\n",
              " 'Task1_Subject_42.xlsx',\n",
              " 'Task1_Subject_43.xlsx',\n",
              " 'Task1_Subject_44.xlsx',\n",
              " 'Task1_Subject_1.xlsx']"
            ]
          },
          "metadata": {},
          "execution_count": 15
        }
      ]
    },
    {
      "cell_type": "code",
      "source": [
        "#blank dataframe to write to\n",
        "#we need one of these for each record type (i.e. 16) otherwise we are appending to differing columns\n",
        "c_gaze_task1 = pd.DataFrame()\n",
        "c_gaze_task2 = pd.DataFrame()\n",
        "c_gaze_task3 = pd.DataFrame()\n",
        "c_gaze_task4 = pd.DataFrame()\n",
        "c_pupil_task1 = pd.DataFrame()\n",
        "c_pupil_task2 = pd.DataFrame()\n",
        "c_pupil_task3 = pd.DataFrame()\n",
        "c_pupil_task4 = pd.DataFrame()\n",
        "c_blinks_task1 = pd.DataFrame()\n",
        "c_blinks_task2 = pd.DataFrame()\n",
        "c_blinks_task3 = pd.DataFrame()\n",
        "c_blinks_task4 = pd.DataFrame()\n",
        "c_annotation_task1 = pd.DataFrame()\n",
        "c_annotation_task2 = pd.DataFrame()\n",
        "c_annotation_task3 = pd.DataFrame()\n",
        "c_annotation_task4 = pd.DataFrame()"
      ],
      "metadata": {
        "id": "FwQT_gpRXkTh"
      },
      "execution_count": 13,
      "outputs": []
    },
    {
      "cell_type": "code",
      "source": [
        "#Writing files into dataframes\n",
        "df_cg1 = []\n",
        "\n",
        "for file in files_xlsx:\n",
        "    file_path = os.path.join(folder_path, file)\n",
        "    data1 = pd.read_excel(file_path, sheet_name=0)\n",
        "    file_name = os.path.basename(file_path)\n",
        "    data1['file'] = file_name\n",
        "    df_cg1.append(data1)\n",
        "\n",
        "# Concatenate the list of DataFrames into a single DataFrame\n",
        "c_gaze_task1 = pd.concat(df_cg1)"
      ],
      "metadata": {
        "id": "XDsjJqnDXsXc"
      },
      "execution_count": null,
      "outputs": []
    }
  ]
}